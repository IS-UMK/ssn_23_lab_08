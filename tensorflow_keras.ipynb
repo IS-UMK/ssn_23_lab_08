{
 "cells": [
  {
   "attachments": {},
   "cell_type": "markdown",
   "id": "940b1f45",
   "metadata": {
    "toc": true
   },
   "source": [
    "<h1>Table of Contents<span class=\"tocSkip\"></span></h1>\n",
    "<div class=\"toc\"><ul class=\"toc-item\"><li><span><a href=\"#Tensorflow-i-Keras\" data-toc-modified-id=\"Tensorflow-i-Keras-1\"><span class=\"toc-item-num\">1&nbsp;&nbsp;</span>Tensorflow i Keras</a></span></li><li><span><a href=\"#Keras\" data-toc-modified-id=\"Keras-2\"><span class=\"toc-item-num\">2&nbsp;&nbsp;</span>Keras</a></span></li><li><span><a href=\"#Dane-MNIST\" data-toc-modified-id=\"Dane-MNIST-3\"><span class=\"toc-item-num\">3&nbsp;&nbsp;</span>Dane MNIST</a></span></li><li><span><a href=\"#Normaliacja-i-centrowanie-danych\" data-toc-modified-id=\"Normaliacja-i-centrowanie-danych-4\"><span class=\"toc-item-num\">4&nbsp;&nbsp;</span>Normaliacja i centrowanie danych</a></span></li><li><span><a href=\"#Kodowanie-klas-one-hot\" data-toc-modified-id=\"Kodowanie-klas-one-hot-5\"><span class=\"toc-item-num\">5&nbsp;&nbsp;</span>Kodowanie klas one-hot</a></span></li><li><span><a href=\"#Budowanie-modelu-sekwencyjnego\" data-toc-modified-id=\"Budowanie-modelu-sekwencyjnego-6\"><span class=\"toc-item-num\">6&nbsp;&nbsp;</span>Budowanie modelu sekwencyjnego</a></span></li><li><span><a href=\"#API-funkcjonalne\" data-toc-modified-id=\"API-funkcjonalne-7\"><span class=\"toc-item-num\">7&nbsp;&nbsp;</span>API funkcjonalne</a></span></li><li><span><a href=\"#Konfigurowanie-modelu\" data-toc-modified-id=\"Konfigurowanie-modelu-8\"><span class=\"toc-item-num\">8&nbsp;&nbsp;</span>Konfigurowanie modelu</a></span></li><li><span><a href=\"#Uczenie-sieci,-metoda-fit()\" data-toc-modified-id=\"Uczenie-sieci,-metoda-fit()-9\"><span class=\"toc-item-num\">9&nbsp;&nbsp;</span>Uczenie sieci, metoda fit()</a></span></li><li><span><a href=\"#Historia-treningu\" data-toc-modified-id=\"Historia-treningu-10\"><span class=\"toc-item-num\">10&nbsp;&nbsp;</span>Historia treningu</a></span></li><li><span><a href=\"#Funkcja-kosztu-na-częsci-treningowej-i-walidacyjnej\" data-toc-modified-id=\"Funkcja-kosztu-na-częsci-treningowej-i-walidacyjnej-11\"><span class=\"toc-item-num\">11&nbsp;&nbsp;</span>Funkcja kosztu na częsci treningowej i walidacyjnej</a></span></li><li><span><a href=\"#Poprawność-klasyfikacji-na-zbiorze-testowym\" data-toc-modified-id=\"Poprawność-klasyfikacji-na-zbiorze-testowym-12\"><span class=\"toc-item-num\">12&nbsp;&nbsp;</span>Poprawność klasyfikacji na zbiorze testowym</a></span></li><li><span><a href=\"#Macierz-pomyłek\" data-toc-modified-id=\"Macierz-pomyłek-13\"><span class=\"toc-item-num\">13&nbsp;&nbsp;</span>Macierz pomyłek</a></span></li><li><span><a href=\"#Predykcja\" data-toc-modified-id=\"Predykcja-14\"><span class=\"toc-item-num\">14&nbsp;&nbsp;</span>Predykcja</a></span></li><li><span><a href=\"#Precykcja---prawdopodobieństwo-wyjść\" data-toc-modified-id=\"Precykcja---prawdopodobieństwo-wyjść-15\"><span class=\"toc-item-num\">15&nbsp;&nbsp;</span>Precykcja - prawdopodobieństwo wyjść</a></span></li><li><span><a href=\"#Macierz-pomyłek\" data-toc-modified-id=\"Macierz-pomyłek-16\"><span class=\"toc-item-num\">16&nbsp;&nbsp;</span>Macierz pomyłek</a></span><ul class=\"toc-item\"><li><span><a href=\"#Ćwiczenie\" data-toc-modified-id=\"Ćwiczenie-16.1\"><span class=\"toc-item-num\">16.1&nbsp;&nbsp;</span>Ćwiczenie</a></span></li></ul></li><li><span><a href=\"#Zadanie---porównanie-algorytmów-optymalizacji-na-MNIST\" data-toc-modified-id=\"Zadanie---porównanie-algorytmów-optymalizacji-na-MNIST-17\"><span class=\"toc-item-num\">17&nbsp;&nbsp;</span>Zadanie - porównanie algorytmów optymalizacji na MNIST</a></span></li></ul></div>"
   ]
  },
  {
   "attachments": {},
   "cell_type": "markdown",
   "id": "957a7c87",
   "metadata": {
    "slideshow": {
     "slide_type": "slide"
    }
   },
   "source": [
    "## Tensorflow i Keras\n",
    "\n",
    "* https://www.tensorflow.org/  biblioteka open-source do ML i AI\n",
    "  * wydajne niskopoziomowych operacji tensorowych na CPU, GPU lub TPU\n",
    "  * obliczanie gradientu dowolnych wyrażeń różniczkowalnych\n",
    "  * skalowanie obliczeń do wielu urządzeń (klastry setek GPU)\n",
    "* https://keras.io/ wysokopoziomowe API do TF"
   ]
  },
  {
   "cell_type": "code",
   "execution_count": null,
   "id": "919ba561",
   "metadata": {},
   "outputs": [],
   "source": [
    "import tensorflow as tf\n",
    "print(tf.__version__)"
   ]
  },
  {
   "attachments": {},
   "cell_type": "markdown",
   "id": "81a48c5b",
   "metadata": {
    "slideshow": {
     "slide_type": "slide"
    }
   },
   "source": [
    "## Keras\n",
    "\n",
    "Keras API https://keras.io/api/\n",
    "*  [tensorflow.keras.Model](https://keras.io/api/models/model/) grupuje warstwy i udostępnia interfejs do treningu i predykcji\n",
    "* [tensorflow.keras.layers](https://keras.io/api/layers/) warstwy sieci, np. [Input()](https://keras.io/api/layers/core_layers/input/) warstwa wejściowa,  [Dense()](https://keras.io/api/layers/core_layers/dense/) warstwa jednokierunkowa o pełnych połączeniach\n",
    "* [tensorflow.keras.callbacks](https://keras.io/api/callbacks/) wykonują akcje w czasie treningu, np. [EarlyStopping](https://keras.io/api/callbacks/early_stopping/), [TensorBoard](https://keras.io/api/callbacks/tensorboard/)\n",
    "* [tensorflow.keras.optimizers](https://keras.io/api/optimizers/) algorytmy optymalizacji\n",
    "* metryki, funkcje kosztu, przetwarzanie danych, zbiory danych, gotowe modele i aplikacje, itd. \n"
   ]
  },
  {
   "attachments": {},
   "cell_type": "markdown",
   "id": "1b664d5e",
   "metadata": {
    "slideshow": {
     "slide_type": "slide"
    }
   },
   "source": [
    "## Dane MNIST"
   ]
  },
  {
   "cell_type": "code",
   "execution_count": null,
   "id": "6151f2c1",
   "metadata": {},
   "outputs": [],
   "source": [
    "(x_train, y_train), (x_test, y_test) = tf.keras.datasets.mnist.load_data()\n",
    "print(\"Training data:\", x_train.shape, y_train.shape)\n",
    "print(\"Test data:\", x_test.shape, y_test.shape)"
   ]
  },
  {
   "cell_type": "code",
   "execution_count": null,
   "id": "db069fb9",
   "metadata": {},
   "outputs": [],
   "source": [
    "import matplotlib.pyplot as plt\n",
    "\n",
    "idx = 682\n",
    "plt.imshow(x_train[idx], cmap=\"gray\")\n",
    "plt.colorbar()\n",
    "plt.show()"
   ]
  },
  {
   "attachments": {},
   "cell_type": "markdown",
   "id": "4df3c971",
   "metadata": {
    "slideshow": {
     "slide_type": "slide"
    }
   },
   "source": [
    "## Normaliacja i centrowanie danych"
   ]
  },
  {
   "cell_type": "code",
   "execution_count": null,
   "id": "76f3d04b",
   "metadata": {},
   "outputs": [],
   "source": [
    "import numpy as np\n",
    "\n",
    "x_train = x_train.reshape(x_train.shape[0], 784).astype('float32') / 255.\n",
    "x_test = x_test.reshape(x_test.shape[0], 784).astype('float32') / 255.\n",
    "\n",
    "x_mean = np.mean(x_train, axis=0)\n",
    "x_train = x_train - x_mean\n",
    "x_test = x_test - x_mean"
   ]
  },
  {
   "attachments": {},
   "cell_type": "markdown",
   "id": "7fed1904",
   "metadata": {
    "slideshow": {
     "slide_type": "slide"
    }
   },
   "source": [
    "## Kodowanie klas one-hot\n",
    "\n",
    "[tf.keras.utils.to_categorical](https://www.tensorflow.org/api_docs/python/tf/keras/utils/to_categorical)"
   ]
  },
  {
   "cell_type": "code",
   "execution_count": null,
   "id": "c0e1994b",
   "metadata": {},
   "outputs": [],
   "source": [
    "y_train = tf.keras.utils.to_categorical(y_train, num_classes=10)\n",
    "y_test = tf.keras.utils.to_categorical(y_test, num_classes=10)\n",
    "\n",
    "print(y_train[0])"
   ]
  },
  {
   "attachments": {},
   "cell_type": "markdown",
   "id": "7ee06d9e",
   "metadata": {
    "slideshow": {
     "slide_type": "slide"
    }
   },
   "source": [
    "## Budowanie modelu\n",
    "\n",
    "* Klasa [tf.keras.models.Sequential()](https://keras.io/api/models/sequential/) tworzy model złożony z listy kolejnych warstw\n",
    "* [API funkcjonalne](https://keras.io/guides/functional_api/) - tworzenie dowolnie połączonych warstw\n",
    "\n",
    "\n",
    "Stwórzmy sieć 100-10 z sigmoidalna funkcją aktywacji i funkcją softmax na wyjściu.  \n",
    "Zob. [Dense()](https://keras.io/api/layers/core_layers/dense/)"
   ]
  },
  {
   "cell_type": "code",
   "execution_count": null,
   "id": "8e3f27ff",
   "metadata": {},
   "outputs": [],
   "source": [
    "model = tf.keras.models.Sequential()\n",
    "\n",
    "# Warstwa wejściowa przyjmuje dane rozmiaru [batch_size, 784]\n",
    "model.add(tf.keras.layers.Input(shape=(784,)))\n",
    "\n",
    "# Warstwa 100 neuronów z funkcją sigmoidalną\n",
    "model.add(tf.keras.layers.Dense(units=100))\n",
    "model.add(tf.keras.layers.Activation('sigmoid')) \n",
    "\n",
    "# Warstwa wyjściowa z funkcją softmax\n",
    "model.add(tf.keras.layers.Dense(units=10))\n",
    "model.add(tf.keras.layers.Activation('softmax')) "
   ]
  },
  {
   "cell_type": "code",
   "execution_count": null,
   "id": "977bb65c",
   "metadata": {
    "slideshow": {
     "slide_type": "slide"
    }
   },
   "outputs": [],
   "source": [
    "model.summary()"
   ]
  },
  {
   "attachments": {},
   "cell_type": "markdown",
   "id": "fa503336",
   "metadata": {
    "slideshow": {
     "slide_type": "slide"
    }
   },
   "source": [
    "## API funkcjonalne\n",
    "\n",
    "Ta sama architektura stworzona za pomocą API funkcjonalnego."
   ]
  },
  {
   "cell_type": "code",
   "execution_count": null,
   "id": "511c9556",
   "metadata": {},
   "outputs": [],
   "source": [
    "# Usuwa wszystkie modele z pamięci\n",
    "tf.keras.backend.clear_session()\n",
    "\n",
    "# Warstwa wejściowa\n",
    "inputs = tf.keras.layers.Input(shape=(784,))\n",
    "\n",
    "# Warstwa ukryta\n",
    "hidden = tf.keras.layers.Dense(100, activation=\"sigmoid\")(inputs)\n",
    "\n",
    "# Warstwa wyjściowa\n",
    "outputs = tf.keras.layers.Dense(10, activation=\"softmax\")(hidden)\n",
    "\n",
    "# Utworzenie modelu\n",
    "model = tf.keras.Model(inputs=inputs, outputs=outputs, name=\"mnist_model_2\")\n",
    "model.summary()"
   ]
  },
  {
   "attachments": {},
   "cell_type": "markdown",
   "id": "3bab7144",
   "metadata": {
    "slideshow": {
     "slide_type": "slide"
    }
   },
   "source": [
    "## Konfigurowanie modelu\n",
    "\n",
    "Metoda [tf.keras.compile()](https://keras.io/api/models/model_training_apis/) wymaga:\n",
    "* ``optimizer``  metoda optymalizacji, np. ``'SGD'``, ``'Adam'`` lub obiekt [tf.keras.optymizers](https://www.tensorflow.org/api_docs/python/tf/keras/optimizers)\n",
    "* ``loss`` optymalizowana funkcja, np. ``'MSE'``, ``'categorical_crossentropy'`` lub obiekt [tf.keras.losses](https://www.tensorflow.org/api_docs/python/tf/keras/losses) \n",
    "* ``metrics`` lista metryk wyznaczanych w czasie treningu, np. ``metrics=['accuracy']`` lub funkcje [tf.keras.metrics](https://www.tensorflow.org/api_docs/python/tf/keras/metrics)"
   ]
  },
  {
   "cell_type": "code",
   "execution_count": null,
   "id": "7eae591e",
   "metadata": {},
   "outputs": [],
   "source": [
    "# Learning rule\n",
    "\n",
    "optimizer = tf.keras.optimizers.SGD(learning_rate=0.1)\n",
    "loss='categorical_crossentropy'\n",
    "metrics=['accuracy'] \n",
    "\n",
    "model.compile(loss=loss, optimizer=optimizer, metrics=metrics)"
   ]
  },
  {
   "attachments": {},
   "cell_type": "markdown",
   "id": "a7424288",
   "metadata": {
    "slideshow": {
     "slide_type": "slide"
    }
   },
   "source": [
    "## Uczenie sieci, metoda fit()"
   ]
  },
  {
   "cell_type": "code",
   "execution_count": null,
   "id": "85fe4b9f",
   "metadata": {},
   "outputs": [],
   "source": [
    "model.fit(\n",
    "    x_train, y_train,     # dane uczące \n",
    "    batch_size=128,       # rozmiar paczki \n",
    "    epochs=20,            # ilość epok\n",
    "    validation_split=0.1, # Procent danych użytych do walidacji\n",
    "    callbacks=None        # lista akcji wykonywanych po każdej epoce lub iteracji (domyślnie History)\n",
    ")"
   ]
  },
  {
   "attachments": {},
   "cell_type": "markdown",
   "id": "9b078f65",
   "metadata": {
    "slideshow": {
     "slide_type": "slide"
    }
   },
   "source": [
    "## Historia treningu"
   ]
  },
  {
   "cell_type": "code",
   "execution_count": null,
   "id": "89a35bec",
   "metadata": {},
   "outputs": [],
   "source": [
    "history = model.history.history\n",
    "print(history.keys())"
   ]
  },
  {
   "cell_type": "code",
   "execution_count": null,
   "id": "9dfe6381",
   "metadata": {},
   "outputs": [],
   "source": [
    "print(history['loss'])"
   ]
  },
  {
   "attachments": {},
   "cell_type": "markdown",
   "id": "67e7ff03",
   "metadata": {
    "slideshow": {
     "slide_type": "slide"
    }
   },
   "source": [
    "## Funkcja kosztu na częsci treningowej i walidacyjnej"
   ]
  },
  {
   "cell_type": "code",
   "execution_count": null,
   "id": "9e4da1cd",
   "metadata": {
    "slideshow": {
     "slide_type": "-"
    }
   },
   "outputs": [],
   "source": [
    "fig, ax = plt.subplots(1, 2, figsize=(15, 6))\n",
    "\n",
    "ax[0].plot(history['loss'], '-r', label=\"Training\")\n",
    "ax[0].plot(history['val_loss'], '-b', label=\"Validation\")\n",
    "ax[0].set_xlabel('Epoch #')\n",
    "ax[0].set_ylabel('Loss')\n",
    "\n",
    "ax[1].plot(history['accuracy'], '-r', label=\"Training\")\n",
    "ax[1].plot(history['val_accuracy'], '-b', label=\"Validation\")\n",
    "ax[1].set_xlabel('Epoch #')\n",
    "ax[1].set_ylabel('Accuracy')\n",
    "plt.show()"
   ]
  },
  {
   "attachments": {},
   "cell_type": "markdown",
   "id": "79b862dd",
   "metadata": {
    "slideshow": {
     "slide_type": "slide"
    }
   },
   "source": [
    "## Poprawność klasyfikacji na zbiorze testowym"
   ]
  },
  {
   "cell_type": "code",
   "execution_count": null,
   "id": "ec961381",
   "metadata": {},
   "outputs": [],
   "source": [
    "score = model.evaluate(x_test, y_test)\n",
    "\n",
    "print('Test loss:', score[0])\n",
    "print('Test accuracy:', score[1])"
   ]
  },
  {
   "attachments": {},
   "cell_type": "markdown",
   "id": "da4ee488",
   "metadata": {
    "slideshow": {
     "slide_type": "slide"
    }
   },
   "source": [
    "## Predykcja "
   ]
  },
  {
   "cell_type": "code",
   "execution_count": null,
   "id": "5795f28b",
   "metadata": {},
   "outputs": [],
   "source": [
    "test_prediction = model.predict(x_test)\n",
    "pred_labels = np.argmax(test_prediction, axis=-1)\n",
    "true_labels = np.argmax(y_test, axis=-1)\n",
    "\n",
    "misclassification = (pred_labels != true_labels).nonzero()[0]\n",
    "\n",
    "plt.figure(figsize=(10, 8))\n",
    "for i in range(12):\n",
    "    plt.subplot(3, 4, i+1)\n",
    "    plt.imshow((x_test[misclassification[i], :] + x_mean).reshape((28, 28)), cmap=plt.cm.gray)\n",
    "    plt.title(f'pred = {pred_labels[misclassification[i]]}\\ntrue = {true_labels[misclassification[i]]}')\n",
    "    plt.xticks([]); plt.yticks([])\n",
    "plt.show()"
   ]
  },
  {
   "attachments": {},
   "cell_type": "markdown",
   "id": "11af6574",
   "metadata": {
    "slideshow": {
     "slide_type": "slide"
    }
   },
   "source": [
    "## Precykcja - prawdopodobieństwo wyjść"
   ]
  },
  {
   "cell_type": "code",
   "execution_count": null,
   "id": "3c168526",
   "metadata": {},
   "outputs": [],
   "source": [
    "i = 1\n",
    "fig, axs = plt.subplots(1, 2, figsize=(10, 4))\n",
    "axs[0].bar(range(10), test_prediction[misclassification[i]])\n",
    "axs[1].imshow((x_test[misclassification[i], :] + x_mean).reshape((28, 28)), cmap=plt.cm.gray);"
   ]
  },
  {
   "attachments": {},
   "cell_type": "markdown",
   "id": "169eb6ea",
   "metadata": {
    "slideshow": {
     "slide_type": "slide"
    }
   },
   "source": [
    "## Macierz pomyłek"
   ]
  },
  {
   "cell_type": "code",
   "execution_count": null,
   "id": "1d21b236",
   "metadata": {},
   "outputs": [],
   "source": [
    "from sklearn.metrics import confusion_matrix, ConfusionMatrixDisplay\n",
    "\n",
    "cm = confusion_matrix(true_labels, pred_labels)\n",
    "ConfusionMatrixDisplay(confusion_matrix=cm).plot();"
   ]
  },
  {
   "attachments": {},
   "cell_type": "markdown",
   "id": "67d80b3f",
   "metadata": {
    "slideshow": {
     "slide_type": "slide"
    }
   },
   "source": [
    "### Ćwiczenie\n",
    "\n",
    "Zbuduj model MLP, który w 20 epokach osiągnie lepszy wynik poprawności na danych MNIST niż 93% (wyniki ``state-of-the-art`` są na poziomie 99.7%)\n",
    "* zwiększ liczbę warstw i/lub neuronów (ale z umiarem, aby uniknąć nieznośnie długiego treningu) \n",
    "* dodaj regularyzację L2 (``weight_decay``)\n",
    "* zmień funkcję aktywacji na ReLU"
   ]
  },
  {
   "cell_type": "code",
   "execution_count": null,
   "id": "0ae789f0",
   "metadata": {},
   "outputs": [],
   "source": [
    "# Rozwiazanie\n",
    "\n",
    "tf.keras.backend.clear_session()\n",
    "\n",
    "\n"
   ]
  },
  {
   "attachments": {},
   "cell_type": "markdown",
   "id": "6a550e6e",
   "metadata": {
    "slideshow": {
     "slide_type": "slide"
    }
   },
   "source": [
    "## Zadanie - porównanie algorytmów optymalizacji na MNIST\n",
    "\n",
    "Porównaj szybkośc zbieżności oraz jakość uzyskiwanych wyników głębokiej sieci MLP na zbiorze MNIST dla następujących metod optymalizacji:\n",
    "* SGD\n",
    "* SGD z momentem \n",
    "* SGD z momentem Nesterova\n",
    "* Adadelta\n",
    "* Adagrad\n",
    "* Adam\n",
    "\n",
    "Dla każdego algorytmu przeprowadź trening w jak najbardziej zbliżonych warunkach, tj z tą samą architekturą, stałą uczenia, liczbą epok, wielkością paczki, regularyzacją itd. Do porównania wybierz architekturę posiadającą więcej niż 2 warstwy ukryte o takiej liczbie neuronów i takiej funkcji aktywacji, która zbiega się w rozsądnym czasie dla bazowego algorytmu SGD dając dobre wyniki (min. 90% poprawności). \n",
    "Przedstaw (najlepiej na wspólnym wykresie) przebieg funkcji kosztu treningowego w kolejnych epokach treningu. Wypisz poprawność klasyfikacji uzyskaną na zbiorze testowym dla każdego modelu. \n",
    "\n",
    "Zob. lista algorytmów optymalizacji Keras: https://keras.io/api/optimizers/#available-optimizers"
   ]
  },
  {
   "cell_type": "code",
   "execution_count": null,
   "id": "d9b9eea9",
   "metadata": {
    "scrolled": false
   },
   "outputs": [],
   "source": [
    "\n",
    "\n",
    "\n"
   ]
  }
 ],
 "metadata": {
  "celltoolbar": "Slideshow",
  "kernelspec": {
   "display_name": "Python 3 (ipykernel)",
   "language": "python",
   "name": "python3"
  },
  "language_info": {
   "codemirror_mode": {
    "name": "ipython",
    "version": 3
   },
   "file_extension": ".py",
   "mimetype": "text/x-python",
   "name": "python",
   "nbconvert_exporter": "python",
   "pygments_lexer": "ipython3",
   "version": "3.9.7"
  },
  "toc": {
   "base_numbering": 1,
   "nav_menu": {},
   "number_sections": true,
   "sideBar": true,
   "skip_h1_title": false,
   "title_cell": "Table of Contents",
   "title_sidebar": "Contents",
   "toc_cell": true,
   "toc_position": {},
   "toc_section_display": true,
   "toc_window_display": false
  },
  "varInspector": {
   "cols": {
    "lenName": 16,
    "lenType": 16,
    "lenVar": 40
   },
   "kernels_config": {
    "python": {
     "delete_cmd_postfix": "",
     "delete_cmd_prefix": "del ",
     "library": "var_list.py",
     "varRefreshCmd": "print(var_dic_list())"
    },
    "r": {
     "delete_cmd_postfix": ") ",
     "delete_cmd_prefix": "rm(",
     "library": "var_list.r",
     "varRefreshCmd": "cat(var_dic_list()) "
    }
   },
   "types_to_exclude": [
    "module",
    "function",
    "builtin_function_or_method",
    "instance",
    "_Feature"
   ],
   "window_display": false
  }
 },
 "nbformat": 4,
 "nbformat_minor": 5
}
